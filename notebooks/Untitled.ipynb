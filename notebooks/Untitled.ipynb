{
 "cells": [
  {
   "cell_type": "code",
   "execution_count": 4,
   "metadata": {
    "scrolled": true
   },
   "outputs": [
    {
     "ename": "Error",
     "evalue": "Cannot find module '../lib/make-element'\nRequire stack:\n- C:\\Users\\nurul\\projects\\nurulc.github.io\\notebooks\\[eval]",
     "output_type": "error",
     "traceback": [
      "internal/modules/cjs/loader.js:797",
      "    throw err;",
      "    ^",
      "",
      "Error: Cannot find module '../lib/make-element'",
      "Require stack:",
      "- C:\\Users\\nurul\\projects\\nurulc.github.io\\notebooks\\[eval]",
      "    at Function.Module._resolveFilename (internal/modules/cjs/loader.js:794:15)",
      "    at Function.Module._load (internal/modules/cjs/loader.js:687:27)",
      "    at Module.require (internal/modules/cjs/loader.js:849:19)",
      "    at require (internal/modules/cjs/helpers.js:74:18)",
      "    at evalmachine.<anonymous>:3:10",
      "    at Script.runInThisContext (vm.js:116:20)",
      "    at Object.runInThisContext (vm.js:306:38)",
      "    at run ([eval]:1054:15)",
      "    at onRunRequest ([eval]:888:18)",
      "    at onMessage ([eval]:848:13)"
     ]
    }
   ],
   "source": [
    "var fs = require('fs');\n",
    "var showdown = require('showdown');\n"
   ]
  },
  {
   "cell_type": "code",
   "execution_count": null,
   "metadata": {
    "collapsed": true
   },
   "outputs": [],
   "source": []
  },
  {
   "cell_type": "code",
   "execution_count": 46,
   "metadata": {
    "scrolled": true
   },
   "outputs": [
    {
     "data": {
      "text/plain": [
       "undefined"
      ]
     },
     "execution_count": 46,
     "metadata": {},
     "output_type": "execute_result"
    }
   ],
   "source": [
    "\n",
    "\n",
    "\n",
    "function identity(x) { return x; }\n",
    "function mdToHtml(x) {\n",
    "    var converter = new showdown.Converter();\n",
    "    return html = converter.makeHtml(x);;\n",
    "}\n",
    "\n",
    "function asHTML(x) {\n",
    "   return x.replace(/&/g, '~AMP~').replace(/</g,\"&lt;\").replace(/>/g,\"&gt;\").replace(/~AMP~/g,\"&amp;\")\n",
    "}\n",
    "\n",
    "function tryit(x,i) {\n",
    "    return (\"<div class=\\\"tryit-container\\\" >\\n\"+\n",
    "            \"\\t<textarea class=\\\"tryit\\\" id=\\\"tryit\"+i+\"\\\">\\n\"+\n",
    "            asHTML(x)+\"\\n\"+\n",
    "            \"\\t</textarea>\\n\"+\n",
    "            \"\\t<div id=\\\"tryit\"+i+\"-error\\\" class=\\\"tryit-error\\\"></div>\\n\"+\n",
    "            \"\\t<div id=\\\"tryit\"+i+\"-display\\\" class=\\\"tryit-display\\\"></div>\\n\"+\n",
    "            \"</div\");\n",
    "}\n",
    "\n",
    "function gen() {\n",
    "    let i = 1;\n",
    "    return ([type, x],ix) => {\n",
    "        //console.log(type)\n",
    "        switch(type) {\n",
    "            case '!head':\n",
    "                return \"<head>\\n\"+x+\"</head>\";\n",
    "            case \"!md\": return mdToHtml(x);\n",
    "            case \"!tryit\": return tryit(x,i++);\n",
    "            default: return x;\n",
    "        }\n",
    "    };\n",
    "}\n",
    "\n",
    "\n",
    "function sections(lines) {\n",
    "    let lastLine = '';\n",
    "    return lines.reduce( ([list, type, agg], line) =>{\n",
    "        if(line.match(/![a-z]+$/)) {\n",
    "           if(agg) list.push([type, agg+'\\n']);\n",
    "           return [list, line, ''];\n",
    "        }\n",
    "        if(line === '' && lastLine === '') {\n",
    "            line = '';\n",
    "        } else {\n",
    "            lastLine = line.trim();\n",
    "            line = '\\n'+line;\n",
    "        }\n",
    "        return [list, type, agg+line];\n",
    "    }, [[], '!html', ''])[0];\n",
    "}"
   ]
  },
  {
   "cell_type": "code",
   "execution_count": 35,
   "metadata": {},
   "outputs": [
    {
     "name": "stdout",
     "output_type": "stream",
     "text": [
      "<div class=\"tryit-container\" >\n",
      "\t<textarea class=\"tryit\" id=\"tryit3\">\n",
      "z=1;\n",
      "z=2\n",
      "\t</textarea>\n",
      "\t<div id=\"tryit3-error\" class=\"tryit-error\"></div>\n",
      "\t<div id=\"tryit3-display\" class=\"tryit-display\"></div>\n",
      "</div\n"
     ]
    },
    {
     "data": {
      "text/plain": [
       "undefined"
      ]
     },
     "execution_count": 35,
     "metadata": {},
     "output_type": "execute_result"
    }
   ],
   "source": [
    "console.log(tryit(\"z=1;\\nz=2\",3))\n"
   ]
  },
  {
   "cell_type": "code",
   "execution_count": 36,
   "metadata": {},
   "outputs": [
    {
     "data": {
      "text/plain": [
       "undefined"
      ]
     },
     "execution_count": 36,
     "metadata": {},
     "output_type": "execute_result"
    }
   ],
   "source": []
  },
  {
   "cell_type": "code",
   "execution_count": 47,
   "metadata": {},
   "outputs": [
    {
     "name": "stdout",
     "output_type": "stream",
     "text": [
      "<head>\n",
      "<title>Data Frame Examples<title>\n",
      "<link rel=\"stylesheet\" type=\"text/css\" href=\"https://cdnjs.cloudflare.com/ajax/libs/codemirror/5.57.0/codemirror.min.css\"/>\n",
      "<link rel=\"stylesheet\" type=\"text/css\" href=\"https://cdnjs.cloudflare.com/ajax/libs/codemirror/5.57.0/theme/cobalt.min.css\"/>\n",
      "\n",
      "<link rel=\"stylesheet\" type=\"text/css\" href=\"https://cdnjs.cloudflare.com/ajax/libs/semantic-ui/2.4.1/semantic.min.css\">\n",
      "<link rel=\"stylesheet\" type=\"text/css\" href=\"https://cdnjs.cloudflare.com/ajax/libs/semantic-ui/2.4.1/component/reset.css\">\n",
      "<link rel=\"stylesheet\" type=\"text/css\" href=\"https://cdnjs.cloudflare.com/ajax/libs/semantic-ui/2.4.1/component/site.css\">\n",
      "\n",
      "<link rel=\"stylesheet\" type=\"text/css\" href=\"https://cdnjs.cloudflare.com/ajax/libs/semantic-ui/2.4.1/component/container.css\">\n",
      "<link rel=\"stylesheet\" type=\"text/css\" href=\"https://cdnjs.cloudflare.com/ajax/libs/semantic-ui/2.4.1/component/grid.css\">\n",
      "<link rel=\"stylesheet\" type=\"text/css\" href=\"https://cdnjs.cloudflare.com/ajax/libs/semantic-ui/2.4.1/component/header.css\">\n",
      "<link rel=\"stylesheet\" type=\"text/css\" href=\"https://cdnjs.cloudflare.com/ajax/libs/semantic-ui/2.4.1/component/image.css\">\n",
      "<link rel=\"stylesheet\" type=\"text/css\" href=\"https://cdnjs.cloudflare.com/ajax/libs/semantic-ui/2.4.1/component/menu.css\">\n",
      "\n",
      "<link rel=\"stylesheet\" type=\"text/css\" href=\"https://cdnjs.cloudflare.com/ajax/libs/semantic-ui/2.4.1/component/divider.css\">\n",
      "<link rel=\"stylesheet\" type=\"text/css\" href=\"https://cdnjs.cloudflare.com/ajax/libs/semantic-ui/2.4.1/component/dropdown.css\">\n",
      "<link rel=\"stylesheet\" type=\"text/css\" href=\"https://cdnjs.cloudflare.com/ajax/libs/semantic-ui/2.4.1/component/segment.css\">\n",
      "<link rel=\"stylesheet\" type=\"text/css\" href=\"https://cdnjs.cloudflare.com/ajax/libs/semantic-ui/2.4.1/component/button.css\">\n",
      "<link rel=\"stylesheet\" type=\"text/css\" href=\"https://cdnjs.cloudflare.com/ajax/libs/semantic-ui/2.4.1/component/list.css\">\n",
      "<link rel=\"stylesheet\" type=\"text/css\" href=\"https://cdnjs.cloudflare.com/ajax/libs/semantic-ui/2.4.1/component/icon.css\">\n",
      "<link rel=\"stylesheet\" type=\"text/css\" href=\"https://cdnjs.cloudflare.com/ajax/libs/semantic-ui/2.4.1/component/sidebar.css\">\n",
      "<link rel=\"stylesheet\" type=\"text/css\" href=\"https://cdnjs.cloudflare.com/ajax/libs/semantic-ui/2.4.1/component/transition.css\">\n",
      "<script src=\"https://unpkg.com/str-data-frame@0.2.9/dist/bundle.js\"></script>\n",
      "</head>\n",
      "<h1 id=\"introduction\">Introduction</h1>\n",
      "<p>Lorem ipsum est sint id amet nulla laborum do minim proident irure minim et magna dolor consectetur ut dolor dolor anim reprehenderit elit officia. Consequat officia aliqua culpa nulla eu ut cillum quis nulla reprehenderit mollit in non occaecat sed quis ex est ea minim voluptate non minim ut in deserunt mollit cupidatat ullamco irure ut dolore laboris eiusmod exercitation reprehenderit dolor nostrud mollit exercitation culpa sunt dolor nulla sit aute tempor tempor ex incididunt ad proident voluptate cupidatat minim consectetur veniam dolore nostrud consectetur consectetur commodo sunt veniam qui reprehenderit ea cupidatat ea veniam nisi elit laborum fugiat et consequat dolor aliquip nisi esse qui adipisicing tempor dolore dolore officia cillum laborum aute sunt commodo nisi fugiat fugiat qui excepteur ut voluptate do ut labore ut dolore deserunt mollit sed sed ea sed dolor excepteur ullamco eiusmod sed exercitation veniam ut minim laboris qui excepteur in pariatur veniam cillum fugiat aliquip nulla excepteur laborum est voluptate incididunt laboris pariatur ut elit nisi deserunt duis duis in ut laborum dolor ut labore cupidatat fugiat mollit ad adipisicing ut officia duis id sunt adipisicing dolore nostrud ex exercitation dolor duis do in esse cillum incididunt officia nostrud laborum sunt culpa.</p>\n",
      "<div class=\"tryit-container\" >\n",
      "\t<textarea class=\"tryit\" id=\"tryit1\">\n",
      "\n",
      "var {Frame} = DataFrame;\n",
      "\n",
      "\n",
      "\t</textarea>\n",
      "\t<div id=\"tryit1-error\" class=\"tryit-error\"></div>\n",
      "\t<div id=\"tryit1-display\" class=\"tryit-display\"></div>\n",
      "</div\n",
      "<h2 id=\"getsomedata\">Get some data</h2>\n",
      "<p>We will use world covid-19 daily statistics</p>\n",
      "<div class=\"tryit-container\" >\n",
      "\t<textarea class=\"tryit\" id=\"tryit2\">\n",
      "\n",
      "\tfetch('')\n",
      "\n",
      "Get the first 11 rows\n",
      "\n",
      "\n",
      "\t</textarea>\n",
      "\t<div id=\"tryit2-error\" class=\"tryit-error\"></div>\n",
      "\t<div id=\"tryit2-display\" class=\"tryit-display\"></div>\n",
      "</div\n",
      "<h2 id=\"getfirstfewrows\">Get first few rows</h2>\n",
      "<p>Get the first 11 rows</p>\n"
     ]
    },
    {
     "data": {
      "text/plain": [
       "undefined"
      ]
     },
     "execution_count": 47,
     "metadata": {},
     "output_type": "execute_result"
    }
   ],
   "source": [
    "var lines = fs.readFileSync('../data-frame-examples.ex','utf8').replace(/\\r/g, '').split('\\n');\n",
    "\n",
    "console.log(sections(lines).map(gen()).join('\\n'))\n",
    "//lines"
   ]
  }
 ],
 "metadata": {
  "kernelspec": {
   "display_name": "Javascript (Node.js)",
   "language": "javascript",
   "name": "javascript"
  },
  "language_info": {
   "file_extension": ".js",
   "mimetype": "application/javascript",
   "name": "javascript",
   "version": "12.13.0"
  }
 },
 "nbformat": 4,
 "nbformat_minor": 2
}
